{
  "cells": [
    {
      "cell_type": "markdown",
      "source": [
        "# Sentimental Analysis using nltk\n",
        "**Problem statement** - \n",
        "There are times when a user writes Good, Nice App or any\n",
        "other positive text, in the review and gives 1-star rating. Your goal is to identify the reviews where the semantics of review text does not match rating.\n",
        "Your goal is to identify such ratings where review text is good, but rating is negative\u0002so that the support team can point this to use"
      ],
      "metadata": {
        "id": "kel7gxQP4pUQ"
      },
      "id": "kel7gxQP4pUQ"
    },
    {
      "cell_type": "code",
      "execution_count": 1,
      "id": "3181f98d",
      "metadata": {
        "id": "3181f98d"
      },
      "outputs": [],
      "source": [
        "# Importing necessary libary\n",
        "import numpy as np \n",
        "import pandas as pd"
      ]
    },
    {
      "cell_type": "code",
      "execution_count": 2,
      "id": "8a91a87d",
      "metadata": {
        "colab": {
          "base_uri": "https://localhost:8080/"
        },
        "id": "8a91a87d",
        "outputId": "678088a7-23d0-4938-a74a-5c8c4c56e613"
      },
      "outputs": [
        {
          "output_type": "stream",
          "name": "stdout",
          "text": [
            "Looking in indexes: https://pypi.org/simple, https://us-python.pkg.dev/colab-wheels/public/simple/\n",
            "Requirement already satisfied: textblob in /usr/local/lib/python3.8/dist-packages (0.15.3)\n",
            "Requirement already satisfied: nltk>=3.1 in /usr/local/lib/python3.8/dist-packages (from textblob) (3.7)\n",
            "Requirement already satisfied: click in /usr/local/lib/python3.8/dist-packages (from nltk>=3.1->textblob) (7.1.2)\n",
            "Requirement already satisfied: regex>=2021.8.3 in /usr/local/lib/python3.8/dist-packages (from nltk>=3.1->textblob) (2022.6.2)\n",
            "Requirement already satisfied: joblib in /usr/local/lib/python3.8/dist-packages (from nltk>=3.1->textblob) (1.2.0)\n",
            "Requirement already satisfied: tqdm in /usr/local/lib/python3.8/dist-packages (from nltk>=3.1->textblob) (4.64.1)\n"
          ]
        }
      ],
      "source": [
        "#pip install textblob"
      ]
    },
    {
      "cell_type": "code",
      "execution_count": 2,
      "id": "3b7958ec",
      "metadata": {
        "execution": {
          "iopub.execute_input": "2022-06-01T10:17:21.451004Z",
          "iopub.status.busy": "2022-06-01T10:17:21.450250Z",
          "iopub.status.idle": "2022-06-01T10:17:21.535652Z",
          "shell.execute_reply": "2022-06-01T10:17:21.534511Z"
        },
        "papermill": {
          "duration": 0.093799,
          "end_time": "2022-06-01T10:17:21.538548",
          "exception": false,
          "start_time": "2022-06-01T10:17:21.444749",
          "status": "completed"
        },
        "tags": [],
        "id": "3b7958ec"
      },
      "outputs": [],
      "source": [
        "df = pd.read_csv(\"/content/chrome_reviews.csv\")  # Reading dataset"
      ]
    },
    {
      "cell_type": "code",
      "execution_count": 3,
      "id": "b709ebce",
      "metadata": {
        "execution": {
          "iopub.execute_input": "2022-06-01T10:17:21.550077Z",
          "iopub.status.busy": "2022-06-01T10:17:21.549117Z",
          "iopub.status.idle": "2022-06-01T10:17:21.576010Z",
          "shell.execute_reply": "2022-06-01T10:17:21.574870Z"
        },
        "papermill": {
          "duration": 0.034978,
          "end_time": "2022-06-01T10:17:21.578196",
          "exception": false,
          "start_time": "2022-06-01T10:17:21.543218",
          "status": "completed"
        },
        "tags": [],
        "colab": {
          "base_uri": "https://localhost:8080/",
          "height": 354
        },
        "id": "b709ebce",
        "outputId": "1020e1ec-0dae-4226-f0ff-86162d757068"
      },
      "outputs": [
        {
          "output_type": "execute_result",
          "data": {
            "text/plain": [
              "     ID                                         Review URL  \\\n",
              "0  3886  https://play.google.com/store/apps/details?id=...   \n",
              "1  3887  https://play.google.com/store/apps/details?id=...   \n",
              "2  3888  https://play.google.com/store/apps/details?id=...   \n",
              "3  3889  https://play.google.com/store/apps/details?id=...   \n",
              "4  3890  https://play.google.com/store/apps/details?id=...   \n",
              "\n",
              "                                             Text  Star  Thumbs Up  \\\n",
              "0                      This is very helpfull aap.     5          0   \n",
              "1                                            Good     3          2   \n",
              "2  Not able to update. Neither able to uninstall.     1          0   \n",
              "3                                        Nice app     4          0   \n",
              "4                               Many unwanted ads     1          0   \n",
              "\n",
              "          User Name Developer Reply        Version Review Date  \\\n",
              "0  INDIAN Knowledge             NaN  83.0.4103.106  2020-12-19   \n",
              "1  Ijeoma Happiness             NaN  85.0.4183.127  2020-12-19   \n",
              "2  Priti D BtCFs-29             NaN  85.0.4183.127  2020-12-19   \n",
              "3        Ajeet Raja             NaN  77.0.3865.116  2020-12-19   \n",
              "4           Rams Mp             NaN   87.0.4280.66  2020-12-19   \n",
              "\n",
              "               App ID  \n",
              "0  com.android.chrome  \n",
              "1  com.android.chrome  \n",
              "2  com.android.chrome  \n",
              "3  com.android.chrome  \n",
              "4  com.android.chrome  "
            ],
            "text/html": [
              "\n",
              "  <div id=\"df-30d44b6c-26c3-4279-8166-bfc8422c0765\">\n",
              "    <div class=\"colab-df-container\">\n",
              "      <div>\n",
              "<style scoped>\n",
              "    .dataframe tbody tr th:only-of-type {\n",
              "        vertical-align: middle;\n",
              "    }\n",
              "\n",
              "    .dataframe tbody tr th {\n",
              "        vertical-align: top;\n",
              "    }\n",
              "\n",
              "    .dataframe thead th {\n",
              "        text-align: right;\n",
              "    }\n",
              "</style>\n",
              "<table border=\"1\" class=\"dataframe\">\n",
              "  <thead>\n",
              "    <tr style=\"text-align: right;\">\n",
              "      <th></th>\n",
              "      <th>ID</th>\n",
              "      <th>Review URL</th>\n",
              "      <th>Text</th>\n",
              "      <th>Star</th>\n",
              "      <th>Thumbs Up</th>\n",
              "      <th>User Name</th>\n",
              "      <th>Developer Reply</th>\n",
              "      <th>Version</th>\n",
              "      <th>Review Date</th>\n",
              "      <th>App ID</th>\n",
              "    </tr>\n",
              "  </thead>\n",
              "  <tbody>\n",
              "    <tr>\n",
              "      <th>0</th>\n",
              "      <td>3886</td>\n",
              "      <td>https://play.google.com/store/apps/details?id=...</td>\n",
              "      <td>This is very helpfull aap.</td>\n",
              "      <td>5</td>\n",
              "      <td>0</td>\n",
              "      <td>INDIAN Knowledge</td>\n",
              "      <td>NaN</td>\n",
              "      <td>83.0.4103.106</td>\n",
              "      <td>2020-12-19</td>\n",
              "      <td>com.android.chrome</td>\n",
              "    </tr>\n",
              "    <tr>\n",
              "      <th>1</th>\n",
              "      <td>3887</td>\n",
              "      <td>https://play.google.com/store/apps/details?id=...</td>\n",
              "      <td>Good</td>\n",
              "      <td>3</td>\n",
              "      <td>2</td>\n",
              "      <td>Ijeoma Happiness</td>\n",
              "      <td>NaN</td>\n",
              "      <td>85.0.4183.127</td>\n",
              "      <td>2020-12-19</td>\n",
              "      <td>com.android.chrome</td>\n",
              "    </tr>\n",
              "    <tr>\n",
              "      <th>2</th>\n",
              "      <td>3888</td>\n",
              "      <td>https://play.google.com/store/apps/details?id=...</td>\n",
              "      <td>Not able to update. Neither able to uninstall.</td>\n",
              "      <td>1</td>\n",
              "      <td>0</td>\n",
              "      <td>Priti D BtCFs-29</td>\n",
              "      <td>NaN</td>\n",
              "      <td>85.0.4183.127</td>\n",
              "      <td>2020-12-19</td>\n",
              "      <td>com.android.chrome</td>\n",
              "    </tr>\n",
              "    <tr>\n",
              "      <th>3</th>\n",
              "      <td>3889</td>\n",
              "      <td>https://play.google.com/store/apps/details?id=...</td>\n",
              "      <td>Nice app</td>\n",
              "      <td>4</td>\n",
              "      <td>0</td>\n",
              "      <td>Ajeet Raja</td>\n",
              "      <td>NaN</td>\n",
              "      <td>77.0.3865.116</td>\n",
              "      <td>2020-12-19</td>\n",
              "      <td>com.android.chrome</td>\n",
              "    </tr>\n",
              "    <tr>\n",
              "      <th>4</th>\n",
              "      <td>3890</td>\n",
              "      <td>https://play.google.com/store/apps/details?id=...</td>\n",
              "      <td>Many unwanted ads</td>\n",
              "      <td>1</td>\n",
              "      <td>0</td>\n",
              "      <td>Rams Mp</td>\n",
              "      <td>NaN</td>\n",
              "      <td>87.0.4280.66</td>\n",
              "      <td>2020-12-19</td>\n",
              "      <td>com.android.chrome</td>\n",
              "    </tr>\n",
              "  </tbody>\n",
              "</table>\n",
              "</div>\n",
              "      <button class=\"colab-df-convert\" onclick=\"convertToInteractive('df-30d44b6c-26c3-4279-8166-bfc8422c0765')\"\n",
              "              title=\"Convert this dataframe to an interactive table.\"\n",
              "              style=\"display:none;\">\n",
              "        \n",
              "  <svg xmlns=\"http://www.w3.org/2000/svg\" height=\"24px\"viewBox=\"0 0 24 24\"\n",
              "       width=\"24px\">\n",
              "    <path d=\"M0 0h24v24H0V0z\" fill=\"none\"/>\n",
              "    <path d=\"M18.56 5.44l.94 2.06.94-2.06 2.06-.94-2.06-.94-.94-2.06-.94 2.06-2.06.94zm-11 1L8.5 8.5l.94-2.06 2.06-.94-2.06-.94L8.5 2.5l-.94 2.06-2.06.94zm10 10l.94 2.06.94-2.06 2.06-.94-2.06-.94-.94-2.06-.94 2.06-2.06.94z\"/><path d=\"M17.41 7.96l-1.37-1.37c-.4-.4-.92-.59-1.43-.59-.52 0-1.04.2-1.43.59L10.3 9.45l-7.72 7.72c-.78.78-.78 2.05 0 2.83L4 21.41c.39.39.9.59 1.41.59.51 0 1.02-.2 1.41-.59l7.78-7.78 2.81-2.81c.8-.78.8-2.07 0-2.86zM5.41 20L4 18.59l7.72-7.72 1.47 1.35L5.41 20z\"/>\n",
              "  </svg>\n",
              "      </button>\n",
              "      \n",
              "  <style>\n",
              "    .colab-df-container {\n",
              "      display:flex;\n",
              "      flex-wrap:wrap;\n",
              "      gap: 12px;\n",
              "    }\n",
              "\n",
              "    .colab-df-convert {\n",
              "      background-color: #E8F0FE;\n",
              "      border: none;\n",
              "      border-radius: 50%;\n",
              "      cursor: pointer;\n",
              "      display: none;\n",
              "      fill: #1967D2;\n",
              "      height: 32px;\n",
              "      padding: 0 0 0 0;\n",
              "      width: 32px;\n",
              "    }\n",
              "\n",
              "    .colab-df-convert:hover {\n",
              "      background-color: #E2EBFA;\n",
              "      box-shadow: 0px 1px 2px rgba(60, 64, 67, 0.3), 0px 1px 3px 1px rgba(60, 64, 67, 0.15);\n",
              "      fill: #174EA6;\n",
              "    }\n",
              "\n",
              "    [theme=dark] .colab-df-convert {\n",
              "      background-color: #3B4455;\n",
              "      fill: #D2E3FC;\n",
              "    }\n",
              "\n",
              "    [theme=dark] .colab-df-convert:hover {\n",
              "      background-color: #434B5C;\n",
              "      box-shadow: 0px 1px 3px 1px rgba(0, 0, 0, 0.15);\n",
              "      filter: drop-shadow(0px 1px 2px rgba(0, 0, 0, 0.3));\n",
              "      fill: #FFFFFF;\n",
              "    }\n",
              "  </style>\n",
              "\n",
              "      <script>\n",
              "        const buttonEl =\n",
              "          document.querySelector('#df-30d44b6c-26c3-4279-8166-bfc8422c0765 button.colab-df-convert');\n",
              "        buttonEl.style.display =\n",
              "          google.colab.kernel.accessAllowed ? 'block' : 'none';\n",
              "\n",
              "        async function convertToInteractive(key) {\n",
              "          const element = document.querySelector('#df-30d44b6c-26c3-4279-8166-bfc8422c0765');\n",
              "          const dataTable =\n",
              "            await google.colab.kernel.invokeFunction('convertToInteractive',\n",
              "                                                     [key], {});\n",
              "          if (!dataTable) return;\n",
              "\n",
              "          const docLinkHtml = 'Like what you see? Visit the ' +\n",
              "            '<a target=\"_blank\" href=https://colab.research.google.com/notebooks/data_table.ipynb>data table notebook</a>'\n",
              "            + ' to learn more about interactive tables.';\n",
              "          element.innerHTML = '';\n",
              "          dataTable['output_type'] = 'display_data';\n",
              "          await google.colab.output.renderOutput(dataTable, element);\n",
              "          const docLink = document.createElement('div');\n",
              "          docLink.innerHTML = docLinkHtml;\n",
              "          element.appendChild(docLink);\n",
              "        }\n",
              "      </script>\n",
              "    </div>\n",
              "  </div>\n",
              "  "
            ]
          },
          "metadata": {},
          "execution_count": 3
        }
      ],
      "source": [
        "df.head()"
      ]
    },
    {
      "cell_type": "code",
      "source": [
        "df.shape"
      ],
      "metadata": {
        "colab": {
          "base_uri": "https://localhost:8080/"
        },
        "id": "hqXURJLcJg1q",
        "outputId": "bf12bc78-b5ee-40ed-e78e-0609fc2e183a"
      },
      "id": "hqXURJLcJg1q",
      "execution_count": 5,
      "outputs": [
        {
          "output_type": "execute_result",
          "data": {
            "text/plain": [
              "(7204, 10)"
            ]
          },
          "metadata": {},
          "execution_count": 5
        }
      ]
    },
    {
      "cell_type": "code",
      "source": [
        "# Importing nltk libray\n",
        "import nltk\n",
        "from nltk.sentiment.vader import SentimentIntensityAnalyzer\n",
        "import pandas as pd\n",
        "from nltk.corpus import stopwords\n",
        "from nltk.tokenize import word_tokenize\n",
        "import re\n",
        "from nltk.stem import WordNetLemmatizer \n",
        "from textblob import TextBlob\n",
        "lemmatizer = WordNetLemmatizer()"
      ],
      "metadata": {
        "id": "5LcswYRe4Uv4"
      },
      "id": "5LcswYRe4Uv4",
      "execution_count": 6,
      "outputs": []
    },
    {
      "cell_type": "code",
      "source": [
        "nltk.download('stopwords')"
      ],
      "metadata": {
        "colab": {
          "base_uri": "https://localhost:8080/"
        },
        "id": "G289M-tEKTPO",
        "outputId": "0ce9051a-71ee-429f-9247-32ca4fa1941d"
      },
      "id": "G289M-tEKTPO",
      "execution_count": 8,
      "outputs": [
        {
          "output_type": "stream",
          "name": "stderr",
          "text": [
            "[nltk_data] Downloading package stopwords to /root/nltk_data...\n",
            "[nltk_data]   Unzipping corpora/stopwords.zip.\n"
          ]
        },
        {
          "output_type": "execute_result",
          "data": {
            "text/plain": [
              "True"
            ]
          },
          "metadata": {},
          "execution_count": 8
        }
      ]
    },
    {
      "cell_type": "code",
      "source": [
        "stop_words = set(stopwords.words('english'))  # setting stop words as english\n",
        "stop_words.remove('not')   # removing not and no as they hold negative sentiments, which are required.\n",
        "stop_words.remove('no')"
      ],
      "metadata": {
        "id": "b29tuQI94X1_"
      },
      "id": "b29tuQI94X1_",
      "execution_count": 9,
      "outputs": []
    },
    {
      "cell_type": "code",
      "source": [
        "nltk.download('punkt')"
      ],
      "metadata": {
        "colab": {
          "base_uri": "https://localhost:8080/"
        },
        "id": "Ijy4T7H5Kc6l",
        "outputId": "0cd33e9f-86cf-437e-e1cd-1f36028822ba"
      },
      "id": "Ijy4T7H5Kc6l",
      "execution_count": 11,
      "outputs": [
        {
          "output_type": "stream",
          "name": "stderr",
          "text": [
            "[nltk_data] Downloading package punkt to /root/nltk_data...\n",
            "[nltk_data]   Unzipping tokenizers/punkt.zip.\n"
          ]
        },
        {
          "output_type": "execute_result",
          "data": {
            "text/plain": [
              "True"
            ]
          },
          "metadata": {},
          "execution_count": 11
        }
      ]
    },
    {
      "cell_type": "code",
      "source": [
        "nltk.download('wordnet')"
      ],
      "metadata": {
        "colab": {
          "base_uri": "https://localhost:8080/"
        },
        "id": "IvwpP3hKKmwT",
        "outputId": "61e74a09-3c12-411c-be5d-808ca5ef541a"
      },
      "id": "IvwpP3hKKmwT",
      "execution_count": 14,
      "outputs": [
        {
          "output_type": "stream",
          "name": "stderr",
          "text": [
            "[nltk_data] Downloading package wordnet to /root/nltk_data...\n"
          ]
        },
        {
          "output_type": "execute_result",
          "data": {
            "text/plain": [
              "True"
            ]
          },
          "metadata": {},
          "execution_count": 14
        }
      ]
    },
    {
      "cell_type": "code",
      "source": [
        "nltk.download('omw-1.4')"
      ],
      "metadata": {
        "colab": {
          "base_uri": "https://localhost:8080/"
        },
        "id": "ayJvKCOlKpDz",
        "outputId": "c440d797-4700-4a8e-fef1-188e3329883b"
      },
      "id": "ayJvKCOlKpDz",
      "execution_count": 15,
      "outputs": [
        {
          "output_type": "stream",
          "name": "stderr",
          "text": [
            "[nltk_data] Downloading package omw-1.4 to /root/nltk_data...\n"
          ]
        },
        {
          "output_type": "execute_result",
          "data": {
            "text/plain": [
              "True"
            ]
          },
          "metadata": {},
          "execution_count": 15
        }
      ]
    },
    {
      "cell_type": "code",
      "execution_count": 16,
      "id": "5bc3e293",
      "metadata": {
        "execution": {
          "iopub.execute_input": "2022-06-01T10:17:21.588923Z",
          "iopub.status.busy": "2022-06-01T10:17:21.588529Z",
          "iopub.status.idle": "2022-06-01T10:17:25.004687Z",
          "shell.execute_reply": "2022-06-01T10:17:25.003605Z"
        },
        "papermill": {
          "duration": 3.424402,
          "end_time": "2022-06-01T10:17:25.007170",
          "exception": false,
          "start_time": "2022-06-01T10:17:21.582768",
          "status": "completed"
        },
        "tags": [],
        "id": "5bc3e293"
      },
      "outputs": [],
      "source": [
        "# Cleaning the text ie Removing all the unnecessary space, symbols.\n",
        "clean_text =[]                                             # creating object to hold clean text\n",
        "for review in df['Text']:\n",
        "    review= re.sub(r'[^\\w\\s]', '', str(review))            # search for alphanumeric char and space, replacing them with blank. \n",
        "    review = re.sub(r'\\d','',review)                       # searching decimal digit and replacing with blank.\n",
        "    review_token = word_tokenize(review.lower().strip())   #convert reviews into lower case and strip leading and tailing spaces followed by spliting sentnece into words\n",
        "    review_without_stopwords=[]                            # creating object holds review_without_stopwords                  \n",
        "    for token in review_token:\n",
        "        if token not in stop_words:\n",
        "            token= lemmatizer.lemmatize(token)             # Reduce word to its stem the word we get is a meaningfull word\n",
        "            review_without_stopwords.append(token)\n",
        "    cleaned_review = \" \".join(review_without_stopwords)   # join used to join elements of the sequence separated by a string separator This function joins elements of a sequence and makes it a string. \n",
        "    clean_text.append(cleaned_review)"
      ]
    },
    {
      "cell_type": "code",
      "execution_count": 17,
      "id": "e6d07daf",
      "metadata": {
        "execution": {
          "iopub.execute_input": "2022-06-01T10:17:25.019322Z",
          "iopub.status.busy": "2022-06-01T10:17:25.018939Z",
          "iopub.status.idle": "2022-06-01T10:17:25.030323Z",
          "shell.execute_reply": "2022-06-01T10:17:25.029524Z"
        },
        "papermill": {
          "duration": 0.020104,
          "end_time": "2022-06-01T10:17:25.032306",
          "exception": false,
          "start_time": "2022-06-01T10:17:25.012202",
          "status": "completed"
        },
        "tags": [],
        "id": "e6d07daf"
      },
      "outputs": [],
      "source": [
        "df[\"cleaned_review\"] = clean_text    # Creating column of cleaned review\n",
        "one_star_reviews = df[df.Star ==1]   # Select == 1 in star column of dataframe"
      ]
    },
    {
      "cell_type": "code",
      "source": [
        "nltk.download('vader_lexicon')"
      ],
      "metadata": {
        "colab": {
          "base_uri": "https://localhost:8080/"
        },
        "id": "f03s3YQXQdNm",
        "outputId": "1f7ed92e-d877-48e0-c442-a1e0c50cdac8"
      },
      "id": "f03s3YQXQdNm",
      "execution_count": 18,
      "outputs": [
        {
          "output_type": "stream",
          "name": "stderr",
          "text": [
            "[nltk_data] Downloading package vader_lexicon to /root/nltk_data...\n"
          ]
        },
        {
          "output_type": "execute_result",
          "data": {
            "text/plain": [
              "True"
            ]
          },
          "metadata": {},
          "execution_count": 18
        }
      ]
    },
    {
      "cell_type": "code",
      "execution_count": 19,
      "id": "ebec0d40",
      "metadata": {
        "execution": {
          "iopub.execute_input": "2022-06-01T10:17:25.043942Z",
          "iopub.status.busy": "2022-06-01T10:17:25.043337Z",
          "iopub.status.idle": "2022-06-01T10:17:25.771738Z",
          "shell.execute_reply": "2022-06-01T10:17:25.770666Z"
        },
        "papermill": {
          "duration": 0.737054,
          "end_time": "2022-06-01T10:17:25.774124",
          "exception": false,
          "start_time": "2022-06-01T10:17:25.037070",
          "status": "completed"
        },
        "tags": [],
        "colab": {
          "base_uri": "https://localhost:8080/"
        },
        "id": "ebec0d40",
        "outputId": "d4e445a2-113c-4ef3-ae3c-3175ffdab6ba"
      },
      "outputs": [
        {
          "output_type": "stream",
          "name": "stderr",
          "text": [
            "<ipython-input-19-378b7835bff0>:12: SettingWithCopyWarning: \n",
            "A value is trying to be set on a copy of a slice from a DataFrame.\n",
            "Try using .loc[row_indexer,col_indexer] = value instead\n",
            "\n",
            "See the caveats in the documentation: https://pandas.pydata.org/pandas-docs/stable/user_guide/indexing.html#returning-a-view-versus-a-copy\n",
            "  one_star_reviews[\"sentiment\"]= senti_list   # Here we get single star review which has positive, negative and neutral sentiments\n"
          ]
        }
      ],
      "source": [
        "sia = SentimentIntensityAnalyzer()\n",
        "senti_list = []\n",
        "\n",
        "for i in one_star_reviews[\"cleaned_review\"]:\n",
        "    score = sia.polarity_scores(i)                   # Cal polarity score of each cleaned text\n",
        "    blob_score = TextBlob(i).sentiment.polarity\n",
        "    if (score['pos'] >= 0.6):\n",
        "        senti_list.append('Positive')\n",
        "    else:\n",
        "        senti_list.append('Negative or Neutral')\n",
        "        \n",
        "one_star_reviews[\"sentiment\"]= senti_list   # Here we get single star review which has positive, negative and neutral sentiments"
      ]
    },
    {
      "cell_type": "code",
      "execution_count": 20,
      "id": "51583a1b",
      "metadata": {
        "execution": {
          "iopub.execute_input": "2022-06-01T10:17:25.785381Z",
          "iopub.status.busy": "2022-06-01T10:17:25.785006Z",
          "iopub.status.idle": "2022-06-01T10:17:25.801600Z",
          "shell.execute_reply": "2022-06-01T10:17:25.800594Z"
        },
        "papermill": {
          "duration": 0.024923,
          "end_time": "2022-06-01T10:17:25.803966",
          "exception": false,
          "start_time": "2022-06-01T10:17:25.779043",
          "status": "completed"
        },
        "tags": [],
        "colab": {
          "base_uri": "https://localhost:8080/",
          "height": 511
        },
        "id": "51583a1b",
        "outputId": "dd07401e-8318-4de9-db17-91dc4ac6304d"
      },
      "outputs": [
        {
          "output_type": "execute_result",
          "data": {
            "text/plain": [
              "      ID                                         Review URL  \\\n",
              "2   3888  https://play.google.com/store/apps/details?id=...   \n",
              "4   3890  https://play.google.com/store/apps/details?id=...   \n",
              "8   3894  https://play.google.com/store/apps/details?id=...   \n",
              "9   3895  https://play.google.com/store/apps/details?id=...   \n",
              "12  3898  https://play.google.com/store/apps/details?id=...   \n",
              "\n",
              "                                                 Text  Star  Thumbs Up  \\\n",
              "2      Not able to update. Neither able to uninstall.     1          0   \n",
              "4                                   Many unwanted ads     1          0   \n",
              "8                                      Very bad app 😞     1          0   \n",
              "9   Many times I tried to update its not updating....     1          0   \n",
              "12  App is not getting update and it is not gettin...     1          0   \n",
              "\n",
              "           User Name Developer Reply        Version Review Date  \\\n",
              "2   Priti D BtCFs-29             NaN  85.0.4183.127  2020-12-19   \n",
              "4            Rams Mp             NaN   87.0.4280.66  2020-12-19   \n",
              "8    Akshat Bhardwaj             NaN   78.0.3904.96  2020-12-19   \n",
              "9       Aditi Rathor             NaN  86.0.4240.198  2020-12-19   \n",
              "12      Daksh Gulati             NaN  83.0.4103.106  2020-12-19   \n",
              "\n",
              "                App ID                                     cleaned_review  \\\n",
              "2   com.android.chrome             not able update neither able uninstall   \n",
              "4   com.android.chrome                                   many unwanted ad   \n",
              "8   com.android.chrome                                            bad app   \n",
              "9   com.android.chrome  many time tried update not updating whenever t...   \n",
              "12  com.android.chrome  app not getting update not getting open saying...   \n",
              "\n",
              "              sentiment  \n",
              "2   Negative or Neutral  \n",
              "4   Negative or Neutral  \n",
              "8   Negative or Neutral  \n",
              "9   Negative or Neutral  \n",
              "12  Negative or Neutral  "
            ],
            "text/html": [
              "\n",
              "  <div id=\"df-e200fa5e-8115-4988-9e99-9657d268be6d\">\n",
              "    <div class=\"colab-df-container\">\n",
              "      <div>\n",
              "<style scoped>\n",
              "    .dataframe tbody tr th:only-of-type {\n",
              "        vertical-align: middle;\n",
              "    }\n",
              "\n",
              "    .dataframe tbody tr th {\n",
              "        vertical-align: top;\n",
              "    }\n",
              "\n",
              "    .dataframe thead th {\n",
              "        text-align: right;\n",
              "    }\n",
              "</style>\n",
              "<table border=\"1\" class=\"dataframe\">\n",
              "  <thead>\n",
              "    <tr style=\"text-align: right;\">\n",
              "      <th></th>\n",
              "      <th>ID</th>\n",
              "      <th>Review URL</th>\n",
              "      <th>Text</th>\n",
              "      <th>Star</th>\n",
              "      <th>Thumbs Up</th>\n",
              "      <th>User Name</th>\n",
              "      <th>Developer Reply</th>\n",
              "      <th>Version</th>\n",
              "      <th>Review Date</th>\n",
              "      <th>App ID</th>\n",
              "      <th>cleaned_review</th>\n",
              "      <th>sentiment</th>\n",
              "    </tr>\n",
              "  </thead>\n",
              "  <tbody>\n",
              "    <tr>\n",
              "      <th>2</th>\n",
              "      <td>3888</td>\n",
              "      <td>https://play.google.com/store/apps/details?id=...</td>\n",
              "      <td>Not able to update. Neither able to uninstall.</td>\n",
              "      <td>1</td>\n",
              "      <td>0</td>\n",
              "      <td>Priti D BtCFs-29</td>\n",
              "      <td>NaN</td>\n",
              "      <td>85.0.4183.127</td>\n",
              "      <td>2020-12-19</td>\n",
              "      <td>com.android.chrome</td>\n",
              "      <td>not able update neither able uninstall</td>\n",
              "      <td>Negative or Neutral</td>\n",
              "    </tr>\n",
              "    <tr>\n",
              "      <th>4</th>\n",
              "      <td>3890</td>\n",
              "      <td>https://play.google.com/store/apps/details?id=...</td>\n",
              "      <td>Many unwanted ads</td>\n",
              "      <td>1</td>\n",
              "      <td>0</td>\n",
              "      <td>Rams Mp</td>\n",
              "      <td>NaN</td>\n",
              "      <td>87.0.4280.66</td>\n",
              "      <td>2020-12-19</td>\n",
              "      <td>com.android.chrome</td>\n",
              "      <td>many unwanted ad</td>\n",
              "      <td>Negative or Neutral</td>\n",
              "    </tr>\n",
              "    <tr>\n",
              "      <th>8</th>\n",
              "      <td>3894</td>\n",
              "      <td>https://play.google.com/store/apps/details?id=...</td>\n",
              "      <td>Very bad app 😞</td>\n",
              "      <td>1</td>\n",
              "      <td>0</td>\n",
              "      <td>Akshat Bhardwaj</td>\n",
              "      <td>NaN</td>\n",
              "      <td>78.0.3904.96</td>\n",
              "      <td>2020-12-19</td>\n",
              "      <td>com.android.chrome</td>\n",
              "      <td>bad app</td>\n",
              "      <td>Negative or Neutral</td>\n",
              "    </tr>\n",
              "    <tr>\n",
              "      <th>9</th>\n",
              "      <td>3895</td>\n",
              "      <td>https://play.google.com/store/apps/details?id=...</td>\n",
              "      <td>Many times I tried to update its not updating....</td>\n",
              "      <td>1</td>\n",
              "      <td>0</td>\n",
              "      <td>Aditi Rathor</td>\n",
              "      <td>NaN</td>\n",
              "      <td>86.0.4240.198</td>\n",
              "      <td>2020-12-19</td>\n",
              "      <td>com.android.chrome</td>\n",
              "      <td>many time tried update not updating whenever t...</td>\n",
              "      <td>Negative or Neutral</td>\n",
              "    </tr>\n",
              "    <tr>\n",
              "      <th>12</th>\n",
              "      <td>3898</td>\n",
              "      <td>https://play.google.com/store/apps/details?id=...</td>\n",
              "      <td>App is not getting update and it is not gettin...</td>\n",
              "      <td>1</td>\n",
              "      <td>0</td>\n",
              "      <td>Daksh Gulati</td>\n",
              "      <td>NaN</td>\n",
              "      <td>83.0.4103.106</td>\n",
              "      <td>2020-12-19</td>\n",
              "      <td>com.android.chrome</td>\n",
              "      <td>app not getting update not getting open saying...</td>\n",
              "      <td>Negative or Neutral</td>\n",
              "    </tr>\n",
              "  </tbody>\n",
              "</table>\n",
              "</div>\n",
              "      <button class=\"colab-df-convert\" onclick=\"convertToInteractive('df-e200fa5e-8115-4988-9e99-9657d268be6d')\"\n",
              "              title=\"Convert this dataframe to an interactive table.\"\n",
              "              style=\"display:none;\">\n",
              "        \n",
              "  <svg xmlns=\"http://www.w3.org/2000/svg\" height=\"24px\"viewBox=\"0 0 24 24\"\n",
              "       width=\"24px\">\n",
              "    <path d=\"M0 0h24v24H0V0z\" fill=\"none\"/>\n",
              "    <path d=\"M18.56 5.44l.94 2.06.94-2.06 2.06-.94-2.06-.94-.94-2.06-.94 2.06-2.06.94zm-11 1L8.5 8.5l.94-2.06 2.06-.94-2.06-.94L8.5 2.5l-.94 2.06-2.06.94zm10 10l.94 2.06.94-2.06 2.06-.94-2.06-.94-.94-2.06-.94 2.06-2.06.94z\"/><path d=\"M17.41 7.96l-1.37-1.37c-.4-.4-.92-.59-1.43-.59-.52 0-1.04.2-1.43.59L10.3 9.45l-7.72 7.72c-.78.78-.78 2.05 0 2.83L4 21.41c.39.39.9.59 1.41.59.51 0 1.02-.2 1.41-.59l7.78-7.78 2.81-2.81c.8-.78.8-2.07 0-2.86zM5.41 20L4 18.59l7.72-7.72 1.47 1.35L5.41 20z\"/>\n",
              "  </svg>\n",
              "      </button>\n",
              "      \n",
              "  <style>\n",
              "    .colab-df-container {\n",
              "      display:flex;\n",
              "      flex-wrap:wrap;\n",
              "      gap: 12px;\n",
              "    }\n",
              "\n",
              "    .colab-df-convert {\n",
              "      background-color: #E8F0FE;\n",
              "      border: none;\n",
              "      border-radius: 50%;\n",
              "      cursor: pointer;\n",
              "      display: none;\n",
              "      fill: #1967D2;\n",
              "      height: 32px;\n",
              "      padding: 0 0 0 0;\n",
              "      width: 32px;\n",
              "    }\n",
              "\n",
              "    .colab-df-convert:hover {\n",
              "      background-color: #E2EBFA;\n",
              "      box-shadow: 0px 1px 2px rgba(60, 64, 67, 0.3), 0px 1px 3px 1px rgba(60, 64, 67, 0.15);\n",
              "      fill: #174EA6;\n",
              "    }\n",
              "\n",
              "    [theme=dark] .colab-df-convert {\n",
              "      background-color: #3B4455;\n",
              "      fill: #D2E3FC;\n",
              "    }\n",
              "\n",
              "    [theme=dark] .colab-df-convert:hover {\n",
              "      background-color: #434B5C;\n",
              "      box-shadow: 0px 1px 3px 1px rgba(0, 0, 0, 0.15);\n",
              "      filter: drop-shadow(0px 1px 2px rgba(0, 0, 0, 0.3));\n",
              "      fill: #FFFFFF;\n",
              "    }\n",
              "  </style>\n",
              "\n",
              "      <script>\n",
              "        const buttonEl =\n",
              "          document.querySelector('#df-e200fa5e-8115-4988-9e99-9657d268be6d button.colab-df-convert');\n",
              "        buttonEl.style.display =\n",
              "          google.colab.kernel.accessAllowed ? 'block' : 'none';\n",
              "\n",
              "        async function convertToInteractive(key) {\n",
              "          const element = document.querySelector('#df-e200fa5e-8115-4988-9e99-9657d268be6d');\n",
              "          const dataTable =\n",
              "            await google.colab.kernel.invokeFunction('convertToInteractive',\n",
              "                                                     [key], {});\n",
              "          if (!dataTable) return;\n",
              "\n",
              "          const docLinkHtml = 'Like what you see? Visit the ' +\n",
              "            '<a target=\"_blank\" href=https://colab.research.google.com/notebooks/data_table.ipynb>data table notebook</a>'\n",
              "            + ' to learn more about interactive tables.';\n",
              "          element.innerHTML = '';\n",
              "          dataTable['output_type'] = 'display_data';\n",
              "          await google.colab.output.renderOutput(dataTable, element);\n",
              "          const docLink = document.createElement('div');\n",
              "          docLink.innerHTML = docLinkHtml;\n",
              "          element.appendChild(docLink);\n",
              "        }\n",
              "      </script>\n",
              "    </div>\n",
              "  </div>\n",
              "  "
            ]
          },
          "metadata": {},
          "execution_count": 20
        }
      ],
      "source": [
        "one_star_reviews.head()"
      ]
    },
    {
      "cell_type": "code",
      "execution_count": 21,
      "id": "5dd0ce64",
      "metadata": {
        "execution": {
          "iopub.execute_input": "2022-06-01T10:17:25.816305Z",
          "iopub.status.busy": "2022-06-01T10:17:25.815490Z",
          "iopub.status.idle": "2022-06-01T10:17:25.831565Z",
          "shell.execute_reply": "2022-06-01T10:17:25.830614Z"
        },
        "papermill": {
          "duration": 0.025628,
          "end_time": "2022-06-01T10:17:25.834826",
          "exception": false,
          "start_time": "2022-06-01T10:17:25.809198",
          "status": "completed"
        },
        "tags": [],
        "colab": {
          "base_uri": "https://localhost:8080/"
        },
        "id": "5dd0ce64",
        "outputId": "c783e20c-ba00-4abf-a39a-df9a0db38ade"
      },
      "outputs": [
        {
          "output_type": "stream",
          "name": "stderr",
          "text": [
            "/usr/local/lib/python3.8/dist-packages/pandas/core/frame.py:4906: SettingWithCopyWarning: \n",
            "A value is trying to be set on a copy of a slice from a DataFrame\n",
            "\n",
            "See the caveats in the documentation: https://pandas.pydata.org/pandas-docs/stable/user_guide/indexing.html#returning-a-view-versus-a-copy\n",
            "  return super().drop(\n"
          ]
        }
      ],
      "source": [
        "positive_review_with_one_star = one_star_reviews[one_star_reviews.sentiment == 'Positive']\n",
        "positive_review_with_one_star.drop(\"cleaned_review\",axis = 1,inplace=True)"
      ]
    },
    {
      "cell_type": "code",
      "execution_count": 22,
      "id": "cf90a8bb",
      "metadata": {
        "execution": {
          "iopub.execute_input": "2022-06-01T10:17:25.848094Z",
          "iopub.status.busy": "2022-06-01T10:17:25.847693Z",
          "iopub.status.idle": "2022-06-01T10:17:25.862717Z",
          "shell.execute_reply": "2022-06-01T10:17:25.861751Z"
        },
        "papermill": {
          "duration": 0.025173,
          "end_time": "2022-06-01T10:17:25.866298",
          "exception": false,
          "start_time": "2022-06-01T10:17:25.841125",
          "status": "completed"
        },
        "tags": [],
        "colab": {
          "base_uri": "https://localhost:8080/",
          "height": 354
        },
        "id": "cf90a8bb",
        "outputId": "44810a14-7dfb-46d9-8130-d878f22b745b"
      },
      "outputs": [
        {
          "output_type": "execute_result",
          "data": {
            "text/plain": [
              "       ID                                         Review URL  \\\n",
              "42   3928  https://play.google.com/store/apps/details?id=...   \n",
              "101  4113  https://play.google.com/store/apps/details?id=...   \n",
              "158  4143  https://play.google.com/store/apps/details?id=...   \n",
              "258  5217  https://play.google.com/store/apps/details?id=...   \n",
              "291  5251  https://play.google.com/store/apps/details?id=...   \n",
              "\n",
              "                                Text  Star  Thumbs Up          User Name  \\\n",
              "42       Okk kind but bad then brave     1          0   shradha baradiya   \n",
              "101                             Good     1          0      Sohail Soomro   \n",
              "158                             Good     1          0      Md Rubel khan   \n",
              "258  It is the best app for browsing     1          0  Favour Nwaejikoma   \n",
              "291                               Ok     1          0      Rajesh Prabhu   \n",
              "\n",
              "    Developer Reply        Version Review Date              App ID sentiment  \n",
              "42              NaN  87.0.4280.101  2020-12-19  com.android.chrome  Positive  \n",
              "101             NaN  74.0.3729.136  2020-12-21  com.android.chrome  Positive  \n",
              "158             NaN            NaN  2020-12-21  com.android.chrome  Positive  \n",
              "258             NaN   56.0.2924.87  2020-12-21  com.android.chrome  Positive  \n",
              "291             NaN  76.0.3809.111  2020-12-21  com.android.chrome  Positive  "
            ],
            "text/html": [
              "\n",
              "  <div id=\"df-881aebbe-5ae5-4dec-b10a-18256ca469aa\">\n",
              "    <div class=\"colab-df-container\">\n",
              "      <div>\n",
              "<style scoped>\n",
              "    .dataframe tbody tr th:only-of-type {\n",
              "        vertical-align: middle;\n",
              "    }\n",
              "\n",
              "    .dataframe tbody tr th {\n",
              "        vertical-align: top;\n",
              "    }\n",
              "\n",
              "    .dataframe thead th {\n",
              "        text-align: right;\n",
              "    }\n",
              "</style>\n",
              "<table border=\"1\" class=\"dataframe\">\n",
              "  <thead>\n",
              "    <tr style=\"text-align: right;\">\n",
              "      <th></th>\n",
              "      <th>ID</th>\n",
              "      <th>Review URL</th>\n",
              "      <th>Text</th>\n",
              "      <th>Star</th>\n",
              "      <th>Thumbs Up</th>\n",
              "      <th>User Name</th>\n",
              "      <th>Developer Reply</th>\n",
              "      <th>Version</th>\n",
              "      <th>Review Date</th>\n",
              "      <th>App ID</th>\n",
              "      <th>sentiment</th>\n",
              "    </tr>\n",
              "  </thead>\n",
              "  <tbody>\n",
              "    <tr>\n",
              "      <th>42</th>\n",
              "      <td>3928</td>\n",
              "      <td>https://play.google.com/store/apps/details?id=...</td>\n",
              "      <td>Okk kind but bad then brave</td>\n",
              "      <td>1</td>\n",
              "      <td>0</td>\n",
              "      <td>shradha baradiya</td>\n",
              "      <td>NaN</td>\n",
              "      <td>87.0.4280.101</td>\n",
              "      <td>2020-12-19</td>\n",
              "      <td>com.android.chrome</td>\n",
              "      <td>Positive</td>\n",
              "    </tr>\n",
              "    <tr>\n",
              "      <th>101</th>\n",
              "      <td>4113</td>\n",
              "      <td>https://play.google.com/store/apps/details?id=...</td>\n",
              "      <td>Good</td>\n",
              "      <td>1</td>\n",
              "      <td>0</td>\n",
              "      <td>Sohail Soomro</td>\n",
              "      <td>NaN</td>\n",
              "      <td>74.0.3729.136</td>\n",
              "      <td>2020-12-21</td>\n",
              "      <td>com.android.chrome</td>\n",
              "      <td>Positive</td>\n",
              "    </tr>\n",
              "    <tr>\n",
              "      <th>158</th>\n",
              "      <td>4143</td>\n",
              "      <td>https://play.google.com/store/apps/details?id=...</td>\n",
              "      <td>Good</td>\n",
              "      <td>1</td>\n",
              "      <td>0</td>\n",
              "      <td>Md Rubel khan</td>\n",
              "      <td>NaN</td>\n",
              "      <td>NaN</td>\n",
              "      <td>2020-12-21</td>\n",
              "      <td>com.android.chrome</td>\n",
              "      <td>Positive</td>\n",
              "    </tr>\n",
              "    <tr>\n",
              "      <th>258</th>\n",
              "      <td>5217</td>\n",
              "      <td>https://play.google.com/store/apps/details?id=...</td>\n",
              "      <td>It is the best app for browsing</td>\n",
              "      <td>1</td>\n",
              "      <td>0</td>\n",
              "      <td>Favour Nwaejikoma</td>\n",
              "      <td>NaN</td>\n",
              "      <td>56.0.2924.87</td>\n",
              "      <td>2020-12-21</td>\n",
              "      <td>com.android.chrome</td>\n",
              "      <td>Positive</td>\n",
              "    </tr>\n",
              "    <tr>\n",
              "      <th>291</th>\n",
              "      <td>5251</td>\n",
              "      <td>https://play.google.com/store/apps/details?id=...</td>\n",
              "      <td>Ok</td>\n",
              "      <td>1</td>\n",
              "      <td>0</td>\n",
              "      <td>Rajesh Prabhu</td>\n",
              "      <td>NaN</td>\n",
              "      <td>76.0.3809.111</td>\n",
              "      <td>2020-12-21</td>\n",
              "      <td>com.android.chrome</td>\n",
              "      <td>Positive</td>\n",
              "    </tr>\n",
              "  </tbody>\n",
              "</table>\n",
              "</div>\n",
              "      <button class=\"colab-df-convert\" onclick=\"convertToInteractive('df-881aebbe-5ae5-4dec-b10a-18256ca469aa')\"\n",
              "              title=\"Convert this dataframe to an interactive table.\"\n",
              "              style=\"display:none;\">\n",
              "        \n",
              "  <svg xmlns=\"http://www.w3.org/2000/svg\" height=\"24px\"viewBox=\"0 0 24 24\"\n",
              "       width=\"24px\">\n",
              "    <path d=\"M0 0h24v24H0V0z\" fill=\"none\"/>\n",
              "    <path d=\"M18.56 5.44l.94 2.06.94-2.06 2.06-.94-2.06-.94-.94-2.06-.94 2.06-2.06.94zm-11 1L8.5 8.5l.94-2.06 2.06-.94-2.06-.94L8.5 2.5l-.94 2.06-2.06.94zm10 10l.94 2.06.94-2.06 2.06-.94-2.06-.94-.94-2.06-.94 2.06-2.06.94z\"/><path d=\"M17.41 7.96l-1.37-1.37c-.4-.4-.92-.59-1.43-.59-.52 0-1.04.2-1.43.59L10.3 9.45l-7.72 7.72c-.78.78-.78 2.05 0 2.83L4 21.41c.39.39.9.59 1.41.59.51 0 1.02-.2 1.41-.59l7.78-7.78 2.81-2.81c.8-.78.8-2.07 0-2.86zM5.41 20L4 18.59l7.72-7.72 1.47 1.35L5.41 20z\"/>\n",
              "  </svg>\n",
              "      </button>\n",
              "      \n",
              "  <style>\n",
              "    .colab-df-container {\n",
              "      display:flex;\n",
              "      flex-wrap:wrap;\n",
              "      gap: 12px;\n",
              "    }\n",
              "\n",
              "    .colab-df-convert {\n",
              "      background-color: #E8F0FE;\n",
              "      border: none;\n",
              "      border-radius: 50%;\n",
              "      cursor: pointer;\n",
              "      display: none;\n",
              "      fill: #1967D2;\n",
              "      height: 32px;\n",
              "      padding: 0 0 0 0;\n",
              "      width: 32px;\n",
              "    }\n",
              "\n",
              "    .colab-df-convert:hover {\n",
              "      background-color: #E2EBFA;\n",
              "      box-shadow: 0px 1px 2px rgba(60, 64, 67, 0.3), 0px 1px 3px 1px rgba(60, 64, 67, 0.15);\n",
              "      fill: #174EA6;\n",
              "    }\n",
              "\n",
              "    [theme=dark] .colab-df-convert {\n",
              "      background-color: #3B4455;\n",
              "      fill: #D2E3FC;\n",
              "    }\n",
              "\n",
              "    [theme=dark] .colab-df-convert:hover {\n",
              "      background-color: #434B5C;\n",
              "      box-shadow: 0px 1px 3px 1px rgba(0, 0, 0, 0.15);\n",
              "      filter: drop-shadow(0px 1px 2px rgba(0, 0, 0, 0.3));\n",
              "      fill: #FFFFFF;\n",
              "    }\n",
              "  </style>\n",
              "\n",
              "      <script>\n",
              "        const buttonEl =\n",
              "          document.querySelector('#df-881aebbe-5ae5-4dec-b10a-18256ca469aa button.colab-df-convert');\n",
              "        buttonEl.style.display =\n",
              "          google.colab.kernel.accessAllowed ? 'block' : 'none';\n",
              "\n",
              "        async function convertToInteractive(key) {\n",
              "          const element = document.querySelector('#df-881aebbe-5ae5-4dec-b10a-18256ca469aa');\n",
              "          const dataTable =\n",
              "            await google.colab.kernel.invokeFunction('convertToInteractive',\n",
              "                                                     [key], {});\n",
              "          if (!dataTable) return;\n",
              "\n",
              "          const docLinkHtml = 'Like what you see? Visit the ' +\n",
              "            '<a target=\"_blank\" href=https://colab.research.google.com/notebooks/data_table.ipynb>data table notebook</a>'\n",
              "            + ' to learn more about interactive tables.';\n",
              "          element.innerHTML = '';\n",
              "          dataTable['output_type'] = 'display_data';\n",
              "          await google.colab.output.renderOutput(dataTable, element);\n",
              "          const docLink = document.createElement('div');\n",
              "          docLink.innerHTML = docLinkHtml;\n",
              "          element.appendChild(docLink);\n",
              "        }\n",
              "      </script>\n",
              "    </div>\n",
              "  </div>\n",
              "  "
            ]
          },
          "metadata": {},
          "execution_count": 22
        }
      ],
      "source": [
        "positive_review_with_one_star.head()"
      ]
    },
    {
      "cell_type": "code",
      "source": [
        "positive_review_with_one_star.shape"
      ],
      "metadata": {
        "colab": {
          "base_uri": "https://localhost:8080/"
        },
        "id": "ehotHvb7JkKr",
        "outputId": "aa5adb5b-eced-4f57-9a6b-8d28674b3972"
      },
      "id": "ehotHvb7JkKr",
      "execution_count": 24,
      "outputs": [
        {
          "output_type": "execute_result",
          "data": {
            "text/plain": [
              "(99, 11)"
            ]
          },
          "metadata": {},
          "execution_count": 24
        }
      ]
    },
    {
      "cell_type": "code",
      "execution_count": null,
      "id": "d3bde5a1",
      "metadata": {
        "execution": {
          "iopub.execute_input": "2022-06-01T10:17:25.880231Z",
          "iopub.status.busy": "2022-06-01T10:17:25.879571Z",
          "iopub.status.idle": "2022-06-01T10:17:25.887719Z",
          "shell.execute_reply": "2022-06-01T10:17:25.886911Z"
        },
        "papermill": {
          "duration": 0.017841,
          "end_time": "2022-06-01T10:17:25.890146",
          "exception": false,
          "start_time": "2022-06-01T10:17:25.872305",
          "status": "completed"
        },
        "tags": [],
        "id": "d3bde5a1"
      },
      "outputs": [],
      "source": [
        "positive_review_with_one_star.to_csv('output.csv')"
      ]
    }
  ],
  "metadata": {
    "kernelspec": {
      "display_name": "Python 3 (ipykernel)",
      "language": "python",
      "name": "python3"
    },
    "language_info": {
      "codemirror_mode": {
        "name": "ipython",
        "version": 3
      },
      "file_extension": ".py",
      "mimetype": "text/x-python",
      "name": "python",
      "nbconvert_exporter": "python",
      "pygments_lexer": "ipython3",
      "version": "3.11.0"
    },
    "papermill": {
      "default_parameters": {},
      "duration": 17.737238,
      "end_time": "2022-06-01T10:17:26.919191",
      "environment_variables": {},
      "exception": null,
      "input_path": "__notebook__.ipynb",
      "output_path": "__notebook__.ipynb",
      "parameters": {},
      "start_time": "2022-06-01T10:17:09.181953",
      "version": "2.3.4"
    },
    "colab": {
      "provenance": []
    }
  },
  "nbformat": 4,
  "nbformat_minor": 5
}